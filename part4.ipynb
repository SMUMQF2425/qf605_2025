{
 "cells": [
  {
   "cell_type": "markdown",
   "id": "fcf62d89-c310-48f4-99e3-b2d5dfcee1c8",
   "metadata": {},
   "source": [
    "# Part IV (Decompounded Options)\n",
    "We start by importing the following modules needed for our computation:"
   ]
  },
  {
   "cell_type": "code",
   "execution_count": 1,
   "id": "80f90f40-21a4-481d-a3ab-b8a8272aca37",
   "metadata": {},
   "outputs": [],
   "source": [
    "import pandas as pd\n",
    "import numpy as np\n",
    "import matplotlib.pyplot as plt\n",
    "from scipy.integrate import quad\n",
    "from scipy.stats import norm\n",
    "\n",
    "import warnings\n",
    "warnings.filterwarnings(\"ignore\")"
   ]
  },
  {
   "cell_type": "markdown",
   "id": "6a128939-0ec3-4508-9fdb-8083c0a5003e",
   "metadata": {},
   "source": [
    "Additionally, we recall the following definitions from part 3:"
   ]
  },
  {
   "cell_type": "code",
   "execution_count": 2,
   "id": "4ef49390-4e0c-4c77-bfb1-9473b8b58c2e",
   "metadata": {},
   "outputs": [],
   "source": [
    "def IRR_0(K, m, N):\n",
    "    value = 1/K * (1 - 1/(1 + K/m)**(N * m))\n",
    "    return value\n",
    "\n",
    "def IRR_1(K, m, N):\n",
    "    firstDerivative = -1/K * IRR_0(K, m, N) + 1/(K * m) * N * m/(1 + K/m)**(N * m + 1)\n",
    "    return firstDerivative\n",
    "\n",
    "def IRR_2(K, m, N):\n",
    "    secondDerivative = -2/K * IRR_1(K, m, N) - 1/(K * m**2)*(N * m)*(N * m + 1)/(1 + K/m)**(N * m + 2)\n",
    "    return secondDerivative"
   ]
  },
  {
   "cell_type": "markdown",
   "id": "fc8c909e-9689-4f86-b6c5-1adbcb4459d3",
   "metadata": {},
   "source": [
    "Since $g(F) = F^\\frac{1}{p} - 0.04^\\frac{1}{q}$ with $p = 4, q = 2$, we obtain the following derivatives:\n",
    "\\begin{equation*}\n",
    "\\begin{split}\n",
    "g(K) &= K^\\frac{1}{4} - 0.04^\\frac{1}{2},\\,\\,g'(K) &= \\frac{1}{4}K^{-\\frac{3}{4}},\\,\\,g''(K) &= -\\frac{3}{16}K^{-\\frac{7}{4}}.\n",
    "\\end{split}\n",
    "\\end{equation*}"
   ]
  },
  {
   "cell_type": "code",
   "execution_count": 3,
   "id": "1bf95997-a92a-4ed5-893b-b4ea68683e3b",
   "metadata": {},
   "outputs": [],
   "source": [
    "def g_0(K):\n",
    "    return K**(1/4) - 0.04**(1/2)\n",
    "\n",
    "def g_1(K):\n",
    "    return (1/4) * K**(-3/4)\n",
    "\n",
    "def g_2(K):\n",
    "    return (-3/16) * K**(-7/4)\n",
    "\n",
    "def h_0(K, m, N):\n",
    "    value = g_0(K) / IRR_0(K, m, N)\n",
    "    return value\n",
    "\n",
    "def h_1(K, m, N):\n",
    "    firstDerivative = (IRR_0(K, m, N) * g_1(K) - g_0(K) * IRR_1(K, m, N)) / IRR_0(K, m, N)**2\n",
    "    return firstDerivative\n",
    "\n",
    "def h_2(K, m, N):\n",
    "    secondDerivative = ((IRR_0(K, m, N) * g_2(K) - IRR_2(K, m, N) * g_0(K) - 2.0 * IRR_1(K, m, N) * g_1(K))/IRR_0(K, m, N)**2 \n",
    "                        + 2 * IRR_1(K, m, N)**2 * g_0(K)/IRR_0(K, m, N)**3)\n",
    "    return secondDerivative\n",
    "\n",
    "def Black76Call(F, K, sigma, T):\n",
    "    d1 = (np.log(F/K) + (sigma**2) * T/2)/(sigma * np.sqrt(T))\n",
    "    d2 = (np.log(F/K) - (sigma**2) * T/2)/(sigma * np.sqrt(T))\n",
    "    return (F * norm.cdf(d1) - K * norm.cdf(d2))\n",
    "\n",
    "def Black76Put(F, K, sigma, T):\n",
    "    d1 = (np.log(F/K) + (sigma**2) * T/2)/(sigma * np.sqrt(T))\n",
    "    d2 = (np.log(F/K) - (sigma**2) * T/2)/(sigma * np.sqrt(T))\n",
    "    return (K * norm.cdf(-d2) - F * norm.cdf(-d1))\n",
    "    \n",
    "def SABR(F, K, T, alpha, beta, rho, nu):\n",
    "    X = K\n",
    "    # if K is at-the-money-forward\n",
    "    if abs(F - K) < 1e-12:\n",
    "        numer1 = (((1 - beta)**2)/24)*alpha*alpha/(F**(2 - 2*beta))\n",
    "        numer2 = 0.25*rho*beta*nu*alpha/(F**(1 - beta))\n",
    "        numer3 = ((2 - 3*rho*rho)/24)*nu*nu\n",
    "        VolAtm = alpha*(1 + (numer1 + numer2 + numer3)*T)/(F**(1-beta))\n",
    "        sabrsigma = VolAtm\n",
    "    else:\n",
    "        z = (nu/alpha)*((F*X)**(0.5*(1-beta)))*np.log(F/X)\n",
    "        zhi = np.log((((1 - 2*rho*z + z*z)**0.5) + z - rho)/(1 - rho))\n",
    "        numer1 = (((1 - beta)**2)/24)*((alpha*alpha)/((F*X)**(1 - beta)))\n",
    "        numer2 = 0.25*rho*beta*nu*alpha/((F*X)**((1 - beta)/2))\n",
    "        numer3 = ((2 - 3*rho*rho)/24)*nu*nu\n",
    "        numer = alpha*(1 + (numer1 + numer2 + numer3)*T)*z\n",
    "        denom1 = ((1 - beta)**2/24)*(np.log(F/X))**2\n",
    "        denom2 = (((1 - beta)**4)/1920)*((np.log(F/X))**4)\n",
    "        denom = ((F*X)**((1 - beta)/2))*(1 + denom1 + denom2)*zhi\n",
    "        sabrsigma = numer/denom\n",
    "\n",
    "    return sabrsigma\n",
    "\n",
    "def payer_swaption(discount, F, K, sigma, T, m , N):\n",
    "    return discount * IRR_0(F, m, N) * Black76Call(F, K, sigma, T)\n",
    "\n",
    "def receiver_swaption(discount, F, K, sigma, T, m , N):\n",
    "    return discount * IRR_0(F, m, N) * Black76Put(F, K, sigma, T)\n",
    "\n",
    "def call_integrand(discount, F, K, sigma, T, m , N):\n",
    "    price = h_2(K, m, N) * payer_swaption(discount, F, K, sigma, T, m , N)\n",
    "    return price\n",
    "\n",
    "def put_integrand(discount, F, K, sigma, T, m , N):\n",
    "    price = h_2(K, m, N) * receiver_swaption(discount, F, K, sigma, T, m , N)\n",
    "    return price"
   ]
  },
  {
   "cell_type": "markdown",
   "id": "a018ad92-9ee3-4d78-a58d-dcd1b4c89c24",
   "metadata": {},
   "source": [
    "## Questions\n",
    "1. A decompounded option pays the following at time $T = 5y$:\n",
    "$$\n",
    "\\text{(CMS $10y$)}^{1/p} - 0.04^{1/q},\n",
    "$$\n",
    "where $p = 4$ and $q = 2$. Use static replication to value the PV of this payoff."
   ]
  },
  {
   "cell_type": "code",
   "execution_count": 4,
   "id": "da217e45-1e21-4b55-a4eb-daa73ddedd54",
   "metadata": {},
   "outputs": [
    {
     "name": "stdout",
     "output_type": "stream",
     "text": [
      "The PV of the payoff of the decompounded option in part 1 is: 0.23339499426083823\n"
     ]
    }
   ],
   "source": [
    "params_df = pd.read_csv(\"calibrated_params.csv\")\n",
    "discount_factor_df = pd.read_csv(\"discount_factors.csv\")\n",
    "\n",
    "par_swap_df = pd.read_csv(\"par_swap_rate.csv\")\n",
    "par_swap_df.set_index('Unnamed: 0', inplace=True)\n",
    "par_swap_df = par_swap_df.T.unstack().reset_index(name='Swap_Rate')\n",
    "par_swap_df.columns = [\"Expiry\", \"Tenor\", \"Swap_Rate\"]\n",
    "\n",
    "# Input parameters here\n",
    "T = 5\n",
    "N = 10\n",
    "m = 2\n",
    "discount = discount_factor_df[(discount_factor_df.Tenor == 5)][\"OIS discount factor\"].iloc[0]\n",
    "F = par_swap_df[(par_swap_df.Expiry == '5Y') & (par_swap_df.Tenor == '10Y')]['Swap_Rate'].iloc[0]\n",
    "\n",
    "alpha = params_df[(params_df.Expiry == '5Y') & (params_df.Tenor == '10Y')]['Alpha'].iloc[0]\n",
    "rho = params_df[(params_df.Expiry == '5Y') & (params_df.Tenor == '10Y')]['Rho'].iloc[0]\n",
    "nu = params_df[(params_df.Expiry == '5Y') & (params_df.Tenor == '10Y')]['Nu'].iloc[0]\n",
    "beta = 0.9\n",
    "\n",
    "I_put = quad(lambda x: put_integrand(discount, F, x, SABR(F,x,T, alpha=alpha, beta=beta, rho=rho, nu=nu), T, m , N), 0.0, F)\n",
    "I_call = quad(lambda x: call_integrand(discount, F, x, SABR(F,x,T, alpha=alpha, beta=beta, rho=rho, nu=nu), T, m , N), F, 5000)\n",
    "\n",
    "v_0 = discount * g_0(F) + I_put[0] + I_call[0]\n",
    "\n",
    "print(f\"The PV of the payoff of the decompounded option in part 1 is: {v_0}\")"
   ]
  },
  {
   "cell_type": "markdown",
   "id": "4c153aeb-8079-442f-a47e-94305e6d5951",
   "metadata": {},
   "source": [
    "2. Suppose the payoff is now\n",
    "$$\n",
    "\\left(\\text{(CMS $10y$)}^{1/p} - 0.04^{1/q}\\right)^+.\n",
    "$$\n",
    "Use static replication to value the PV of this payoff."
   ]
  },
  {
   "cell_type": "code",
   "execution_count": 5,
   "id": "160b4873-bde3-4411-ac8d-a506d387ec90",
   "metadata": {},
   "outputs": [
    {
     "name": "stdout",
     "output_type": "stream",
     "text": [
      "The PV of the payoff of the decompounded option in part 2 is: 0.25144601726342575\n"
     ]
    }
   ],
   "source": [
    "L = (0.04 **(1/2))**4\n",
    "I_call2 = quad(lambda x: call_integrand(discount, F, x, SABR(F,x,T, alpha=alpha, beta=beta, rho=rho, nu=nu), T, m , N), L, 5000)\n",
    "v_1 = h_1(L, m, N) * payer_swaption(discount, F, L, SABR(F,L,T, alpha=alpha, beta=beta, rho=rho, nu=nu), T, m, N) + I_call2[0]\n",
    "\n",
    "print(f\"The PV of the payoff of the decompounded option in part 2 is: {v_1}\")"
   ]
  }
 ],
 "metadata": {
  "kernelspec": {
   "display_name": "Python 3 (ipykernel)",
   "language": "python",
   "name": "python3"
  },
  "language_info": {
   "codemirror_mode": {
    "name": "ipython",
    "version": 3
   },
   "file_extension": ".py",
   "mimetype": "text/x-python",
   "name": "python",
   "nbconvert_exporter": "python",
   "pygments_lexer": "ipython3",
   "version": "3.13.2"
  }
 },
 "nbformat": 4,
 "nbformat_minor": 5
}
